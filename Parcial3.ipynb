{
 "cells": [
  {
   "cell_type": "code",
   "execution_count": 1,
   "metadata": {},
   "outputs": [],
   "source": [
    "#Imports\n",
    "import cv2\n",
    "import numpy as np"
   ]
  },
  {
   "cell_type": "code",
   "execution_count": 2,
   "metadata": {},
   "outputs": [],
   "source": [
    "counter = 0\n",
    "#Flags to know if the check/invisible and count lines were passed\n",
    "line_crossed_1 = False     #check/left\n",
    "line_crossed_2 = False     #count/right\n",
    "cap = cv2.VideoCapture('video_sidetest.mp4')\n",
    "\n",
    "#Frames to be compared\n",
    "ret, frame1 = cap.read()\n",
    "ret, frame2 = cap.read()\n",
    "\n",
    "#dimensions = frame1.shape\n",
    "#First line range  (check/left line)\n",
    "rangex_1 = range(155,165)\n",
    "#Second line range (count/right line)\n",
    "rangex_2 = range(440,485)\n",
    "\n",
    "width = frame1.shape[1]\n",
    "height = frame1.shape[0] \n",
    "font = cv2.FONT_HERSHEY_SIMPLEX"
   ]
  },
  {
   "cell_type": "code",
   "execution_count": 3,
   "metadata": {},
   "outputs": [
    {
     "ename": "error",
     "evalue": "OpenCV(3.4.2) /opt/concourse/worker/volumes/live/0851a95b-0a19-4f3a-61a7-502b925fea13/volume/opencv-suite_1535642710601/work/modules/core/src/arithm.cpp:659: error: (-209:Sizes of input arguments do not match) The operation is neither 'array op array' (where arrays have the same size and the same number of channels), nor 'array op scalar', nor 'scalar op array' in function 'arithm_op'\n",
     "output_type": "error",
     "traceback": [
      "\u001b[0;31m---------------------------------------------------------------------------\u001b[0m",
      "\u001b[0;31merror\u001b[0m                                     Traceback (most recent call last)",
      "\u001b[0;32m<ipython-input-3-4c08952fbcda>\u001b[0m in \u001b[0;36m<module>\u001b[0;34m\u001b[0m\n\u001b[1;32m      1\u001b[0m \u001b[0;32mwhile\u001b[0m\u001b[0;34m(\u001b[0m\u001b[0mcap\u001b[0m\u001b[0;34m.\u001b[0m\u001b[0misOpened\u001b[0m\u001b[0;34m(\u001b[0m\u001b[0;34m)\u001b[0m\u001b[0;34m)\u001b[0m\u001b[0;34m:\u001b[0m\u001b[0;34m\u001b[0m\u001b[0;34m\u001b[0m\u001b[0m\n\u001b[1;32m      2\u001b[0m     \u001b[0;31m#Obtain the absolute difference between orginial and copy frame\u001b[0m\u001b[0;34m\u001b[0m\u001b[0;34m\u001b[0m\u001b[0;34m\u001b[0m\u001b[0m\n\u001b[0;32m----> 3\u001b[0;31m     \u001b[0mdiff\u001b[0m \u001b[0;34m=\u001b[0m \u001b[0mcv2\u001b[0m\u001b[0;34m.\u001b[0m\u001b[0mabsdiff\u001b[0m\u001b[0;34m(\u001b[0m\u001b[0mframe1\u001b[0m\u001b[0;34m,\u001b[0m \u001b[0mframe2\u001b[0m\u001b[0;34m)\u001b[0m\u001b[0;34m\u001b[0m\u001b[0;34m\u001b[0m\u001b[0m\n\u001b[0m\u001b[1;32m      4\u001b[0m     \u001b[0;31m#Prepare the video frames for processing and find the contours\u001b[0m\u001b[0;34m\u001b[0m\u001b[0;34m\u001b[0m\u001b[0;34m\u001b[0m\u001b[0m\n\u001b[1;32m      5\u001b[0m     \u001b[0mgray\u001b[0m \u001b[0;34m=\u001b[0m \u001b[0mcv2\u001b[0m\u001b[0;34m.\u001b[0m\u001b[0mcvtColor\u001b[0m\u001b[0;34m(\u001b[0m\u001b[0mdiff\u001b[0m\u001b[0;34m,\u001b[0m \u001b[0mcv2\u001b[0m\u001b[0;34m.\u001b[0m\u001b[0mCOLOR_BGR2GRAY\u001b[0m\u001b[0;34m)\u001b[0m\u001b[0;34m\u001b[0m\u001b[0;34m\u001b[0m\u001b[0m\n",
      "\u001b[0;31merror\u001b[0m: OpenCV(3.4.2) /opt/concourse/worker/volumes/live/0851a95b-0a19-4f3a-61a7-502b925fea13/volume/opencv-suite_1535642710601/work/modules/core/src/arithm.cpp:659: error: (-209:Sizes of input arguments do not match) The operation is neither 'array op array' (where arrays have the same size and the same number of channels), nor 'array op scalar', nor 'scalar op array' in function 'arithm_op'\n"
     ]
    }
   ],
   "source": [
    "while(cap.isOpened()):\n",
    "    #Obtain the absolute difference between orginial and copy frame\n",
    "    diff = cv2.absdiff(frame1, frame2)\n",
    "    #Prepare the video frames for processing and find the contours\n",
    "    gray = cv2.cvtColor(diff, cv2.COLOR_BGR2GRAY)\n",
    "    blur = cv2.GaussianBlur(gray, (5,5), 0)\n",
    "    _, thresh = cv2.threshold(blur, 20, 255, cv2.THRESH_BINARY)\n",
    "    dilated = cv2.dilate(thresh, None, iterations=3)\n",
    "    \n",
    "    #Find the contours of all the objects\n",
    "    _, contours, _ = cv2.findContours(dilated, cv2.RETR_TREE, cv2.CHAIN_APPROX_SIMPLE)\n",
    "    \n",
    "    for contour in contours:\n",
    "        #Save the coodinates of all the contours that were identified\n",
    "        (x, y, w, h) = cv2.boundingRect(contour)\n",
    "        #Discrimitane any area that is less than the area of a person\n",
    "        if ((cv2.contourArea(contour)) > 2250 and (h>w)):\n",
    "            #Draw the green boxes over the body\n",
    "            cv2.rectangle(frame1, (x, y), (x+w, y+h), (0, 255, 0), 2)\n",
    "            M = cv2.moments(contour)\n",
    "            #Calculate x,y coordinate of center/blob\n",
    "            cx = int(M['m10']/M['m00'])\n",
    "            cy = int(M['m01']/M['m00'])\n",
    "            #Draw blob/center circle\n",
    "            cv2.circle(frame1,(cx,cy), 5, (0,0,255), -1) \n",
    "\n",
    "            #The algorithm to work check if the blob/center, obtained by moments\n",
    "            #and stored in (cx,cy), of the person/object passed by the different cases,\n",
    "            #according to that, we (not)count the person\n",
    "            \n",
    "            #Cases:\n",
    "            #Person passed over check line\n",
    "            if(cx in rangex_1):\n",
    "                line_crossed_1 = True\n",
    "                break\n",
    "            #Person passed over count line\n",
    "            if((cx in rangex_2) and line_crossed_1 == True):\n",
    "                line_crossed_2 = True\n",
    "                break\n",
    "            #Person walked from right to left\n",
    "            if(line_crossed_2 == True and line_crossed_1 == False):\n",
    "                line_crossed_2 = False\n",
    "                line_crossed_1 = False\n",
    "                break;\n",
    "                \n",
    "            #Check that both lines were crossed\n",
    "            if(line_crossed_1 == True and line_crossed_2 == True):\n",
    "                line_crossed_2 = False\n",
    "                line_crossed_1 = False\n",
    "                counter += 1\n",
    "                break\n",
    "    \n",
    "    #Entrance/exit to count people\n",
    "    cv2.rectangle(frame1, (int(width/4), 0), (int(width/4)+5, height), (255, 255, 255), -1)\n",
    "    #Check line left side\n",
    "    cv2.rectangle(frame1, (int(width/4)+285, 0), (int(width/4)+325, height), (130, 50, 120), -1)\n",
    "    #Draw count_txt over frame\n",
    "    count_txt = 'Count: '+ str(counter)\n",
    "    cv2.putText(frame1, count_txt ,(10,height-10),font,0.7,(255, 255, 255),1,cv2.LINE_AA)\n",
    "    \n",
    "    cv2.imshow(\"Actual Frame\", frame1)\n",
    "    #Frame refresh\n",
    "    frame1 = frame2\n",
    "    ret, frame2 = cap.read()\n",
    "    \n",
    "    #ESC for exit\n",
    "    k = cv2.waitKey(30) & 0xff\n",
    "    if k == 27:\n",
    "        break\n",
    "\n",
    "cap.release()\n",
    "cv2.destroyAllWindows()"
   ]
  },
  {
   "cell_type": "code",
   "execution_count": null,
   "metadata": {},
   "outputs": [],
   "source": []
  }
 ],
 "metadata": {
  "kernelspec": {
   "display_name": "Python 3",
   "language": "python",
   "name": "python3"
  },
  "language_info": {
   "codemirror_mode": {
    "name": "ipython",
    "version": 3
   },
   "file_extension": ".py",
   "mimetype": "text/x-python",
   "name": "python",
   "nbconvert_exporter": "python",
   "pygments_lexer": "ipython3",
   "version": "3.6.10"
  }
 },
 "nbformat": 4,
 "nbformat_minor": 4
}
